{
 "cells": [
  {
   "cell_type": "markdown",
   "id": "c1187275",
   "metadata": {},
   "source": [
    "## Hand Written Number Dedection"
   ]
  },
  {
   "cell_type": "code",
   "execution_count": null,
   "id": "2770b489",
   "metadata": {},
   "outputs": [],
   "source": [
    "from sklearn.datasets import load_digits\n",
    "from sklearn import svm, metrics\n",
    "digits = load_digits()\n",
    "x = digits.data\n",
    "y = digits.target\n",
    "feature_names = digits.feature_names\n",
    "#It shows the Numbers of that images which we are going to use \n",
    "target_names = digits.target_names\n",
    "print(\"Feature Names : \" , feature_names)\n",
    "print(\"Target Names : \" , target_names)\n",
    "print(\"\\nFirst 10 rows of X:\\n\" , x[:10])"
   ]
  },
  {
   "cell_type": "code",
   "execution_count": null,
   "id": "8262a438",
   "metadata": {},
   "outputs": [],
   "source": [
    "digits.data.shape # Shape of your array"
   ]
  },
  {
   "cell_type": "markdown",
   "id": "90d24b79",
   "metadata": {},
   "source": [
    "## List of images we have"
   ]
  },
  {
   "cell_type": "code",
   "execution_count": null,
   "id": "8e319834",
   "metadata": {},
   "outputs": [],
   "source": [
    "import matplotlib.pyplot as plt\n",
    "plt.gray()\n",
    "#Display All the pictures we are going to use\n",
    "for i in range(0,10):\n",
    "    plt.matshow(digits.images[i])\n",
    "    plt.show()\n",
    "    i= i+1"
   ]
  },
  {
   "cell_type": "markdown",
   "id": "807a951b",
   "metadata": {},
   "source": [
    "## Training the Model"
   ]
  },
  {
   "cell_type": "code",
   "execution_count": null,
   "id": "123cb066",
   "metadata": {},
   "outputs": [],
   "source": [
    "digits = load_digits()\n",
    "#We are going to Train our Model\n",
    "_, sub_axes = plt.subplots(nrows=1, ncols=10, figsize=(25, 7))\n",
    "for ax_to_show, image, label in zip(sub_axes, digits.images, digits.target):\n",
    "    ax_to_show.set_axis_off()\n",
    "    ax_to_show.imshow(image, cmap=plt.cm.gray_r, interpolation=\"nearest\")\n",
    "    ax_to_show.set_title(\"Training the Model: %i\" % label)\n"
   ]
  },
  {
   "cell_type": "code",
   "execution_count": null,
   "id": "d3c0aca9",
   "metadata": {},
   "outputs": [],
   "source": [
    "# flatten the images\n",
    "from sklearn.model_selection import train_test_split\n",
    "new_samples = len(digits.images)\n",
    "data = digits.images.reshape((new_samples, -1))\n",
    "\n",
    "# Create a classifier: a support vector classifier\n",
    "classify = svm.SVC(gamma=0.001)\n",
    "\n",
    "# Split data into 50% train and 50% test subsets\n",
    "X_train, X_test, y_train, y_test = train_test_split(\n",
    "    data, digits.target, test_size=0.5, shuffle=True\n",
    ")\n",
    "\n",
    "# Learn the digits on the train subset\n",
    "classify.fit(X_train, y_train)\n",
    "\n",
    "# Prediction is under way by the model\n",
    "predicted = classify.predict(X_test)"
   ]
  },
  {
   "cell_type": "markdown",
   "id": "7fd107c4",
   "metadata": {},
   "source": [
    "## Predicted Value is Here"
   ]
  },
  {
   "cell_type": "code",
   "execution_count": null,
   "id": "9c958b56",
   "metadata": {},
   "outputs": [],
   "source": [
    "_, axes = plt.subplots(nrows=1, ncols=9, figsize=(25, 3))\n",
    "for ax_to_show, image, prediction in zip(axes, X_test, predicted):\n",
    "    ax_to_show.set_axis_off()\n",
    "    image = image.reshape(8, 8)\n",
    "    ax_to_show.imshow(image, cmap=plt.cm.gray_r, interpolation=\"nearest\")\n",
    "    #Final predicted results\n",
    "    ax_to_show.set_title(f\"Prediction By Model: {prediction}\")"
   ]
  },
  {
   "cell_type": "markdown",
   "id": "8932bb2d",
   "metadata": {},
   "source": [
    "## Confusion Metric of Prediction"
   ]
  },
  {
   "cell_type": "code",
   "execution_count": null,
   "id": "a2cce78f",
   "metadata": {},
   "outputs": [],
   "source": [
    "disp = metrics.ConfusionMatrixDisplay.from_predictions(y_test, predicted)\n",
    "disp.figure_.suptitle(\"Confusion Matrix\")\n",
    "print(f\"Confusion matrix:\\n{disp.confusion_matrix}\")\n",
    "#Confusion Matric (difference between Original Value and Predicted value estimation by the model)\n",
    "plt.show()"
   ]
  },
  {
   "cell_type": "markdown",
   "id": "0c1478ad",
   "metadata": {},
   "source": [
    "## Allah Hafiz"
   ]
  }
 ],
 "metadata": {
  "kernelspec": {
   "display_name": "Python 3 (ipykernel)",
   "language": "python",
   "name": "python3"
  },
  "language_info": {
   "codemirror_mode": {
    "name": "ipython",
    "version": 3
   },
   "file_extension": ".py",
   "mimetype": "text/x-python",
   "name": "python",
   "nbconvert_exporter": "python",
   "pygments_lexer": "ipython3",
   "version": "3.9.10"
  }
 },
 "nbformat": 4,
 "nbformat_minor": 5
}
